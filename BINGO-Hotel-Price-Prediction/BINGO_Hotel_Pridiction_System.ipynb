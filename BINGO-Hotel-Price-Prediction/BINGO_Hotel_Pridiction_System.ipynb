{
  "nbformat": 4,
  "nbformat_minor": 0,
  "metadata": {
    "colab": {
      "provenance": []
    },
    "kernelspec": {
      "name": "python3",
      "display_name": "Python 3"
    },
    "language_info": {
      "name": "python"
    }
  },
  "cells": [
    {
      "cell_type": "markdown",
      "source": [
        "### **Importing the Required Libraries**"
      ],
      "metadata": {
        "id": "es-MsPHQnvZS"
      }
    },
    {
      "cell_type": "code",
      "execution_count": 1,
      "metadata": {
        "id": "QXv5yQf8oIQp"
      },
      "outputs": [],
      "source": [
        "import numpy as np\n",
        "import pandas as pd\n",
        "import matplotlib.pyplot as plt\n",
        "import sklearn\n",
        "import seaborn as sb\n",
        "import missingno as mn\n",
        "from pathlib import Path\n",
        "import warnings\n",
        "warnings.filterwarnings('ignore')\n"
      ]
    },
    {
      "cell_type": "markdown",
      "source": [
        "### **Loading the Dataset**"
      ],
      "metadata": {
        "id": "7CHOsCA1oJrq"
      }
    },
    {
      "cell_type": "code",
      "source": [
        "hotelDataset = pd.read_excel(\"/content/hotels.xlsx\") #Enter your required dataset here"
      ],
      "metadata": {
        "id": "8zbnk5BDAldC"
      },
      "execution_count": 2,
      "outputs": []
    },
    {
      "cell_type": "markdown",
      "source": [
        "### **Viewing the Dataset**"
      ],
      "metadata": {
        "id": "hF7itdYxpOCX"
      }
    },
    {
      "cell_type": "code",
      "source": [
        "#Describing the Dataset\n",
        "hotelDataset"
      ],
      "metadata": {
        "id": "vpeMqaq4pWYi",
        "outputId": "b21cf8db-6457-4b84-96ee-b8489e6774c8",
        "colab": {
          "base_uri": "https://localhost:8080/",
          "height": 424
        }
      },
      "execution_count": 3,
      "outputs": [
        {
          "output_type": "execute_result",
          "data": {
            "text/plain": [
              "      ID           Hotel name  Price(BAM)  Hotel star rating  Distance  \\\n",
              "0      1               Europe         139                  5       350   \n",
              "1      2               Europe         187                  5       350   \n",
              "2      3                Hills         255                  5     10000   \n",
              "3      4                Hills         141                  5     10000   \n",
              "4      5             Boutique         117                  4       450   \n",
              "..   ...                  ...         ...                ...       ...   \n",
              "115  116            WUD Hotel         121                  3      3200   \n",
              "116  117               uHotel         161                  4       250   \n",
              "117  118        Allegro Hotel         106                  4       550   \n",
              "118  119              M Hotel         123                  4      2400   \n",
              "119  120  Austria Trend Hotel         137                  4      3500   \n",
              "\n",
              "     Customer rating  Rooms  Squares       City  \n",
              "0                8.3      1       25   Sarajevo  \n",
              "1                8.3      2       40   Sarajevo  \n",
              "2                8.5      3       42   Sarajevo  \n",
              "3                8.5      2       42   Sarajevo  \n",
              "4                8.7      1       15   Sarajevo  \n",
              "..               ...    ...      ...        ...  \n",
              "115              8.9      2       40  Ljubljana  \n",
              "116              9.0      1       28  Ljubljana  \n",
              "117              8.5      1       35  Ljubljana  \n",
              "118              8.4      1       31  Ljubljana  \n",
              "119              8.8      1       34  Ljubljana  \n",
              "\n",
              "[120 rows x 9 columns]"
            ],
            "text/html": [
              "\n",
              "  <div id=\"df-b8960efa-aabd-40da-9b2b-09aa5b354024\">\n",
              "    <div class=\"colab-df-container\">\n",
              "      <div>\n",
              "<style scoped>\n",
              "    .dataframe tbody tr th:only-of-type {\n",
              "        vertical-align: middle;\n",
              "    }\n",
              "\n",
              "    .dataframe tbody tr th {\n",
              "        vertical-align: top;\n",
              "    }\n",
              "\n",
              "    .dataframe thead th {\n",
              "        text-align: right;\n",
              "    }\n",
              "</style>\n",
              "<table border=\"1\" class=\"dataframe\">\n",
              "  <thead>\n",
              "    <tr style=\"text-align: right;\">\n",
              "      <th></th>\n",
              "      <th>ID</th>\n",
              "      <th>Hotel name</th>\n",
              "      <th>Price(BAM)</th>\n",
              "      <th>Hotel star rating</th>\n",
              "      <th>Distance</th>\n",
              "      <th>Customer rating</th>\n",
              "      <th>Rooms</th>\n",
              "      <th>Squares</th>\n",
              "      <th>City</th>\n",
              "    </tr>\n",
              "  </thead>\n",
              "  <tbody>\n",
              "    <tr>\n",
              "      <th>0</th>\n",
              "      <td>1</td>\n",
              "      <td>Europe</td>\n",
              "      <td>139</td>\n",
              "      <td>5</td>\n",
              "      <td>350</td>\n",
              "      <td>8.3</td>\n",
              "      <td>1</td>\n",
              "      <td>25</td>\n",
              "      <td>Sarajevo</td>\n",
              "    </tr>\n",
              "    <tr>\n",
              "      <th>1</th>\n",
              "      <td>2</td>\n",
              "      <td>Europe</td>\n",
              "      <td>187</td>\n",
              "      <td>5</td>\n",
              "      <td>350</td>\n",
              "      <td>8.3</td>\n",
              "      <td>2</td>\n",
              "      <td>40</td>\n",
              "      <td>Sarajevo</td>\n",
              "    </tr>\n",
              "    <tr>\n",
              "      <th>2</th>\n",
              "      <td>3</td>\n",
              "      <td>Hills</td>\n",
              "      <td>255</td>\n",
              "      <td>5</td>\n",
              "      <td>10000</td>\n",
              "      <td>8.5</td>\n",
              "      <td>3</td>\n",
              "      <td>42</td>\n",
              "      <td>Sarajevo</td>\n",
              "    </tr>\n",
              "    <tr>\n",
              "      <th>3</th>\n",
              "      <td>4</td>\n",
              "      <td>Hills</td>\n",
              "      <td>141</td>\n",
              "      <td>5</td>\n",
              "      <td>10000</td>\n",
              "      <td>8.5</td>\n",
              "      <td>2</td>\n",
              "      <td>42</td>\n",
              "      <td>Sarajevo</td>\n",
              "    </tr>\n",
              "    <tr>\n",
              "      <th>4</th>\n",
              "      <td>5</td>\n",
              "      <td>Boutique</td>\n",
              "      <td>117</td>\n",
              "      <td>4</td>\n",
              "      <td>450</td>\n",
              "      <td>8.7</td>\n",
              "      <td>1</td>\n",
              "      <td>15</td>\n",
              "      <td>Sarajevo</td>\n",
              "    </tr>\n",
              "    <tr>\n",
              "      <th>...</th>\n",
              "      <td>...</td>\n",
              "      <td>...</td>\n",
              "      <td>...</td>\n",
              "      <td>...</td>\n",
              "      <td>...</td>\n",
              "      <td>...</td>\n",
              "      <td>...</td>\n",
              "      <td>...</td>\n",
              "      <td>...</td>\n",
              "    </tr>\n",
              "    <tr>\n",
              "      <th>115</th>\n",
              "      <td>116</td>\n",
              "      <td>WUD Hotel</td>\n",
              "      <td>121</td>\n",
              "      <td>3</td>\n",
              "      <td>3200</td>\n",
              "      <td>8.9</td>\n",
              "      <td>2</td>\n",
              "      <td>40</td>\n",
              "      <td>Ljubljana</td>\n",
              "    </tr>\n",
              "    <tr>\n",
              "      <th>116</th>\n",
              "      <td>117</td>\n",
              "      <td>uHotel</td>\n",
              "      <td>161</td>\n",
              "      <td>4</td>\n",
              "      <td>250</td>\n",
              "      <td>9.0</td>\n",
              "      <td>1</td>\n",
              "      <td>28</td>\n",
              "      <td>Ljubljana</td>\n",
              "    </tr>\n",
              "    <tr>\n",
              "      <th>117</th>\n",
              "      <td>118</td>\n",
              "      <td>Allegro Hotel</td>\n",
              "      <td>106</td>\n",
              "      <td>4</td>\n",
              "      <td>550</td>\n",
              "      <td>8.5</td>\n",
              "      <td>1</td>\n",
              "      <td>35</td>\n",
              "      <td>Ljubljana</td>\n",
              "    </tr>\n",
              "    <tr>\n",
              "      <th>118</th>\n",
              "      <td>119</td>\n",
              "      <td>M Hotel</td>\n",
              "      <td>123</td>\n",
              "      <td>4</td>\n",
              "      <td>2400</td>\n",
              "      <td>8.4</td>\n",
              "      <td>1</td>\n",
              "      <td>31</td>\n",
              "      <td>Ljubljana</td>\n",
              "    </tr>\n",
              "    <tr>\n",
              "      <th>119</th>\n",
              "      <td>120</td>\n",
              "      <td>Austria Trend Hotel</td>\n",
              "      <td>137</td>\n",
              "      <td>4</td>\n",
              "      <td>3500</td>\n",
              "      <td>8.8</td>\n",
              "      <td>1</td>\n",
              "      <td>34</td>\n",
              "      <td>Ljubljana</td>\n",
              "    </tr>\n",
              "  </tbody>\n",
              "</table>\n",
              "<p>120 rows × 9 columns</p>\n",
              "</div>\n",
              "      <button class=\"colab-df-convert\" onclick=\"convertToInteractive('df-b8960efa-aabd-40da-9b2b-09aa5b354024')\"\n",
              "              title=\"Convert this dataframe to an interactive table.\"\n",
              "              style=\"display:none;\">\n",
              "        \n",
              "  <svg xmlns=\"http://www.w3.org/2000/svg\" height=\"24px\"viewBox=\"0 0 24 24\"\n",
              "       width=\"24px\">\n",
              "    <path d=\"M0 0h24v24H0V0z\" fill=\"none\"/>\n",
              "    <path d=\"M18.56 5.44l.94 2.06.94-2.06 2.06-.94-2.06-.94-.94-2.06-.94 2.06-2.06.94zm-11 1L8.5 8.5l.94-2.06 2.06-.94-2.06-.94L8.5 2.5l-.94 2.06-2.06.94zm10 10l.94 2.06.94-2.06 2.06-.94-2.06-.94-.94-2.06-.94 2.06-2.06.94z\"/><path d=\"M17.41 7.96l-1.37-1.37c-.4-.4-.92-.59-1.43-.59-.52 0-1.04.2-1.43.59L10.3 9.45l-7.72 7.72c-.78.78-.78 2.05 0 2.83L4 21.41c.39.39.9.59 1.41.59.51 0 1.02-.2 1.41-.59l7.78-7.78 2.81-2.81c.8-.78.8-2.07 0-2.86zM5.41 20L4 18.59l7.72-7.72 1.47 1.35L5.41 20z\"/>\n",
              "  </svg>\n",
              "      </button>\n",
              "      \n",
              "  <style>\n",
              "    .colab-df-container {\n",
              "      display:flex;\n",
              "      flex-wrap:wrap;\n",
              "      gap: 12px;\n",
              "    }\n",
              "\n",
              "    .colab-df-convert {\n",
              "      background-color: #E8F0FE;\n",
              "      border: none;\n",
              "      border-radius: 50%;\n",
              "      cursor: pointer;\n",
              "      display: none;\n",
              "      fill: #1967D2;\n",
              "      height: 32px;\n",
              "      padding: 0 0 0 0;\n",
              "      width: 32px;\n",
              "    }\n",
              "\n",
              "    .colab-df-convert:hover {\n",
              "      background-color: #E2EBFA;\n",
              "      box-shadow: 0px 1px 2px rgba(60, 64, 67, 0.3), 0px 1px 3px 1px rgba(60, 64, 67, 0.15);\n",
              "      fill: #174EA6;\n",
              "    }\n",
              "\n",
              "    [theme=dark] .colab-df-convert {\n",
              "      background-color: #3B4455;\n",
              "      fill: #D2E3FC;\n",
              "    }\n",
              "\n",
              "    [theme=dark] .colab-df-convert:hover {\n",
              "      background-color: #434B5C;\n",
              "      box-shadow: 0px 1px 3px 1px rgba(0, 0, 0, 0.15);\n",
              "      filter: drop-shadow(0px 1px 2px rgba(0, 0, 0, 0.3));\n",
              "      fill: #FFFFFF;\n",
              "    }\n",
              "  </style>\n",
              "\n",
              "      <script>\n",
              "        const buttonEl =\n",
              "          document.querySelector('#df-b8960efa-aabd-40da-9b2b-09aa5b354024 button.colab-df-convert');\n",
              "        buttonEl.style.display =\n",
              "          google.colab.kernel.accessAllowed ? 'block' : 'none';\n",
              "\n",
              "        async function convertToInteractive(key) {\n",
              "          const element = document.querySelector('#df-b8960efa-aabd-40da-9b2b-09aa5b354024');\n",
              "          const dataTable =\n",
              "            await google.colab.kernel.invokeFunction('convertToInteractive',\n",
              "                                                     [key], {});\n",
              "          if (!dataTable) return;\n",
              "\n",
              "          const docLinkHtml = 'Like what you see? Visit the ' +\n",
              "            '<a target=\"_blank\" href=https://colab.research.google.com/notebooks/data_table.ipynb>data table notebook</a>'\n",
              "            + ' to learn more about interactive tables.';\n",
              "          element.innerHTML = '';\n",
              "          dataTable['output_type'] = 'display_data';\n",
              "          await google.colab.output.renderOutput(dataTable, element);\n",
              "          const docLink = document.createElement('div');\n",
              "          docLink.innerHTML = docLinkHtml;\n",
              "          element.appendChild(docLink);\n",
              "        }\n",
              "      </script>\n",
              "    </div>\n",
              "  </div>\n",
              "  "
            ]
          },
          "metadata": {},
          "execution_count": 3
        }
      ]
    },
    {
      "cell_type": "markdown",
      "source": [
        "**Displaying the statistics of the input dataset**"
      ],
      "metadata": {
        "id": "6RPwWwuCppNd"
      }
    },
    {
      "cell_type": "code",
      "source": [
        "hotelDataset.describe()"
      ],
      "metadata": {
        "colab": {
          "base_uri": "https://localhost:8080/",
          "height": 300
        },
        "id": "KlTlEa7Bq316",
        "outputId": "8d677f56-bb1f-4bd2-aaad-cb32d3394f64"
      },
      "execution_count": 4,
      "outputs": [
        {
          "output_type": "execute_result",
          "data": {
            "text/plain": [
              "               ID  Price(BAM)  Hotel star rating     Distance  \\\n",
              "count  120.000000  120.000000         120.000000    120.00000   \n",
              "mean    60.500000  153.341667           3.625000   2353.75000   \n",
              "std     34.785054   79.444235           0.799816   2437.27326   \n",
              "min      1.000000   39.000000           2.000000    150.00000   \n",
              "25%     30.750000   99.500000           3.000000    450.00000   \n",
              "50%     60.500000  140.000000           4.000000   1550.00000   \n",
              "75%     90.250000  180.000000           4.000000   3400.00000   \n",
              "max    120.000000  474.000000           5.000000  10000.00000   \n",
              "\n",
              "       Customer rating       Rooms     Squares  \n",
              "count        120.00000  120.000000  120.000000  \n",
              "mean           8.64250    2.000000   27.525000  \n",
              "std            0.61694    0.916698   10.496068  \n",
              "min            6.50000    1.000000   10.000000  \n",
              "25%            8.40000    1.000000   20.000000  \n",
              "50%            8.70000    2.000000   26.000000  \n",
              "75%            9.00000    2.250000   35.000000  \n",
              "max            9.70000    4.000000   60.000000  "
            ],
            "text/html": [
              "\n",
              "  <div id=\"df-ec6ed773-a36d-4613-980d-7c44c6b23e96\">\n",
              "    <div class=\"colab-df-container\">\n",
              "      <div>\n",
              "<style scoped>\n",
              "    .dataframe tbody tr th:only-of-type {\n",
              "        vertical-align: middle;\n",
              "    }\n",
              "\n",
              "    .dataframe tbody tr th {\n",
              "        vertical-align: top;\n",
              "    }\n",
              "\n",
              "    .dataframe thead th {\n",
              "        text-align: right;\n",
              "    }\n",
              "</style>\n",
              "<table border=\"1\" class=\"dataframe\">\n",
              "  <thead>\n",
              "    <tr style=\"text-align: right;\">\n",
              "      <th></th>\n",
              "      <th>ID</th>\n",
              "      <th>Price(BAM)</th>\n",
              "      <th>Hotel star rating</th>\n",
              "      <th>Distance</th>\n",
              "      <th>Customer rating</th>\n",
              "      <th>Rooms</th>\n",
              "      <th>Squares</th>\n",
              "    </tr>\n",
              "  </thead>\n",
              "  <tbody>\n",
              "    <tr>\n",
              "      <th>count</th>\n",
              "      <td>120.000000</td>\n",
              "      <td>120.000000</td>\n",
              "      <td>120.000000</td>\n",
              "      <td>120.00000</td>\n",
              "      <td>120.00000</td>\n",
              "      <td>120.000000</td>\n",
              "      <td>120.000000</td>\n",
              "    </tr>\n",
              "    <tr>\n",
              "      <th>mean</th>\n",
              "      <td>60.500000</td>\n",
              "      <td>153.341667</td>\n",
              "      <td>3.625000</td>\n",
              "      <td>2353.75000</td>\n",
              "      <td>8.64250</td>\n",
              "      <td>2.000000</td>\n",
              "      <td>27.525000</td>\n",
              "    </tr>\n",
              "    <tr>\n",
              "      <th>std</th>\n",
              "      <td>34.785054</td>\n",
              "      <td>79.444235</td>\n",
              "      <td>0.799816</td>\n",
              "      <td>2437.27326</td>\n",
              "      <td>0.61694</td>\n",
              "      <td>0.916698</td>\n",
              "      <td>10.496068</td>\n",
              "    </tr>\n",
              "    <tr>\n",
              "      <th>min</th>\n",
              "      <td>1.000000</td>\n",
              "      <td>39.000000</td>\n",
              "      <td>2.000000</td>\n",
              "      <td>150.00000</td>\n",
              "      <td>6.50000</td>\n",
              "      <td>1.000000</td>\n",
              "      <td>10.000000</td>\n",
              "    </tr>\n",
              "    <tr>\n",
              "      <th>25%</th>\n",
              "      <td>30.750000</td>\n",
              "      <td>99.500000</td>\n",
              "      <td>3.000000</td>\n",
              "      <td>450.00000</td>\n",
              "      <td>8.40000</td>\n",
              "      <td>1.000000</td>\n",
              "      <td>20.000000</td>\n",
              "    </tr>\n",
              "    <tr>\n",
              "      <th>50%</th>\n",
              "      <td>60.500000</td>\n",
              "      <td>140.000000</td>\n",
              "      <td>4.000000</td>\n",
              "      <td>1550.00000</td>\n",
              "      <td>8.70000</td>\n",
              "      <td>2.000000</td>\n",
              "      <td>26.000000</td>\n",
              "    </tr>\n",
              "    <tr>\n",
              "      <th>75%</th>\n",
              "      <td>90.250000</td>\n",
              "      <td>180.000000</td>\n",
              "      <td>4.000000</td>\n",
              "      <td>3400.00000</td>\n",
              "      <td>9.00000</td>\n",
              "      <td>2.250000</td>\n",
              "      <td>35.000000</td>\n",
              "    </tr>\n",
              "    <tr>\n",
              "      <th>max</th>\n",
              "      <td>120.000000</td>\n",
              "      <td>474.000000</td>\n",
              "      <td>5.000000</td>\n",
              "      <td>10000.00000</td>\n",
              "      <td>9.70000</td>\n",
              "      <td>4.000000</td>\n",
              "      <td>60.000000</td>\n",
              "    </tr>\n",
              "  </tbody>\n",
              "</table>\n",
              "</div>\n",
              "      <button class=\"colab-df-convert\" onclick=\"convertToInteractive('df-ec6ed773-a36d-4613-980d-7c44c6b23e96')\"\n",
              "              title=\"Convert this dataframe to an interactive table.\"\n",
              "              style=\"display:none;\">\n",
              "        \n",
              "  <svg xmlns=\"http://www.w3.org/2000/svg\" height=\"24px\"viewBox=\"0 0 24 24\"\n",
              "       width=\"24px\">\n",
              "    <path d=\"M0 0h24v24H0V0z\" fill=\"none\"/>\n",
              "    <path d=\"M18.56 5.44l.94 2.06.94-2.06 2.06-.94-2.06-.94-.94-2.06-.94 2.06-2.06.94zm-11 1L8.5 8.5l.94-2.06 2.06-.94-2.06-.94L8.5 2.5l-.94 2.06-2.06.94zm10 10l.94 2.06.94-2.06 2.06-.94-2.06-.94-.94-2.06-.94 2.06-2.06.94z\"/><path d=\"M17.41 7.96l-1.37-1.37c-.4-.4-.92-.59-1.43-.59-.52 0-1.04.2-1.43.59L10.3 9.45l-7.72 7.72c-.78.78-.78 2.05 0 2.83L4 21.41c.39.39.9.59 1.41.59.51 0 1.02-.2 1.41-.59l7.78-7.78 2.81-2.81c.8-.78.8-2.07 0-2.86zM5.41 20L4 18.59l7.72-7.72 1.47 1.35L5.41 20z\"/>\n",
              "  </svg>\n",
              "      </button>\n",
              "      \n",
              "  <style>\n",
              "    .colab-df-container {\n",
              "      display:flex;\n",
              "      flex-wrap:wrap;\n",
              "      gap: 12px;\n",
              "    }\n",
              "\n",
              "    .colab-df-convert {\n",
              "      background-color: #E8F0FE;\n",
              "      border: none;\n",
              "      border-radius: 50%;\n",
              "      cursor: pointer;\n",
              "      display: none;\n",
              "      fill: #1967D2;\n",
              "      height: 32px;\n",
              "      padding: 0 0 0 0;\n",
              "      width: 32px;\n",
              "    }\n",
              "\n",
              "    .colab-df-convert:hover {\n",
              "      background-color: #E2EBFA;\n",
              "      box-shadow: 0px 1px 2px rgba(60, 64, 67, 0.3), 0px 1px 3px 1px rgba(60, 64, 67, 0.15);\n",
              "      fill: #174EA6;\n",
              "    }\n",
              "\n",
              "    [theme=dark] .colab-df-convert {\n",
              "      background-color: #3B4455;\n",
              "      fill: #D2E3FC;\n",
              "    }\n",
              "\n",
              "    [theme=dark] .colab-df-convert:hover {\n",
              "      background-color: #434B5C;\n",
              "      box-shadow: 0px 1px 3px 1px rgba(0, 0, 0, 0.15);\n",
              "      filter: drop-shadow(0px 1px 2px rgba(0, 0, 0, 0.3));\n",
              "      fill: #FFFFFF;\n",
              "    }\n",
              "  </style>\n",
              "\n",
              "      <script>\n",
              "        const buttonEl =\n",
              "          document.querySelector('#df-ec6ed773-a36d-4613-980d-7c44c6b23e96 button.colab-df-convert');\n",
              "        buttonEl.style.display =\n",
              "          google.colab.kernel.accessAllowed ? 'block' : 'none';\n",
              "\n",
              "        async function convertToInteractive(key) {\n",
              "          const element = document.querySelector('#df-ec6ed773-a36d-4613-980d-7c44c6b23e96');\n",
              "          const dataTable =\n",
              "            await google.colab.kernel.invokeFunction('convertToInteractive',\n",
              "                                                     [key], {});\n",
              "          if (!dataTable) return;\n",
              "\n",
              "          const docLinkHtml = 'Like what you see? Visit the ' +\n",
              "            '<a target=\"_blank\" href=https://colab.research.google.com/notebooks/data_table.ipynb>data table notebook</a>'\n",
              "            + ' to learn more about interactive tables.';\n",
              "          element.innerHTML = '';\n",
              "          dataTable['output_type'] = 'display_data';\n",
              "          await google.colab.output.renderOutput(dataTable, element);\n",
              "          const docLink = document.createElement('div');\n",
              "          docLink.innerHTML = docLinkHtml;\n",
              "          element.appendChild(docLink);\n",
              "        }\n",
              "      </script>\n",
              "    </div>\n",
              "  </div>\n",
              "  "
            ]
          },
          "metadata": {},
          "execution_count": 4
        }
      ]
    },
    {
      "cell_type": "markdown",
      "source": [
        "**Displaying the Metadata of the Dataset**"
      ],
      "metadata": {
        "id": "-oNh5MJxqI0x"
      }
    },
    {
      "cell_type": "code",
      "source": [
        "hotelDataset.info()"
      ],
      "metadata": {
        "colab": {
          "base_uri": "https://localhost:8080/"
        },
        "id": "RN9UWpsPq6_G",
        "outputId": "484d468a-68a5-4721-e6b3-71f5c3736da9"
      },
      "execution_count": 5,
      "outputs": [
        {
          "output_type": "stream",
          "name": "stdout",
          "text": [
            "<class 'pandas.core.frame.DataFrame'>\n",
            "RangeIndex: 120 entries, 0 to 119\n",
            "Data columns (total 9 columns):\n",
            " #   Column             Non-Null Count  Dtype  \n",
            "---  ------             --------------  -----  \n",
            " 0   ID                 120 non-null    int64  \n",
            " 1   Hotel name         120 non-null    object \n",
            " 2   Price(BAM)         120 non-null    int64  \n",
            " 3   Hotel star rating  120 non-null    int64  \n",
            " 4   Distance           120 non-null    int64  \n",
            " 5   Customer rating    120 non-null    float64\n",
            " 6   Rooms              120 non-null    int64  \n",
            " 7   Squares            120 non-null    int64  \n",
            " 8   City               120 non-null    object \n",
            "dtypes: float64(1), int64(6), object(2)\n",
            "memory usage: 8.6+ KB\n"
          ]
        }
      ]
    },
    {
      "cell_type": "code",
      "source": [
        "hotelDataset.value_counts() #Displaying counts of unique values"
      ],
      "metadata": {
        "colab": {
          "base_uri": "https://localhost:8080/"
        },
        "id": "T4vjtzicCScj",
        "outputId": "a5dc3004-9f11-43ab-a630-49ec509466b4"
      },
      "execution_count": 6,
      "outputs": [
        {
          "output_type": "execute_result",
          "data": {
            "text/plain": [
              "ID   Hotel name           Price(BAM)  Hotel star rating  Distance  Customer rating  Rooms  Squares  City     \n",
              "1    Europe               139         5                  350       8.3              1      25       Sarajevo     1\n",
              "2    Europe               187         5                  350       8.3              2      40       Sarajevo     1\n",
              "89   Hotel Union          49          3                  400       8.9              1      19       Belgrade     1\n",
              "88   Tullip Inn Putnik    108         3                  4100      8.2              1      32       Belgrade     1\n",
              "87   Hotel Moskva         155         4                  400       9.0              1      29       Belgrade     1\n",
              "                                                                                                                ..\n",
              "36   Best western         105         3                  9000      8.9              1      13       Zagreb       1\n",
              "35   Zagreb               76          2                  3500      6.9              1      12       Zagreb       1\n",
              "34   Zagreb               158         2                  3500      6.9              4      20       Zagreb       1\n",
              "33   Fala                 133         2                  2200      8.0              3      20       Zagreb       1\n",
              "120  Austria Trend Hotel  137         4                  3500      8.8              1      34       Ljubljana    1\n",
              "Length: 120, dtype: int64"
            ]
          },
          "metadata": {},
          "execution_count": 6
        }
      ]
    },
    {
      "cell_type": "code",
      "source": [
        "#to check for missing values in each column.\n",
        "hotelDataset.isnull().sum()"
      ],
      "metadata": {
        "colab": {
          "base_uri": "https://localhost:8080/"
        },
        "id": "xM7e5fIVFSzQ",
        "outputId": "9ffc5614-1e1c-447d-df51-f3e7349c4f05"
      },
      "execution_count": 7,
      "outputs": [
        {
          "output_type": "execute_result",
          "data": {
            "text/plain": [
              "ID                   0\n",
              "Hotel name           0\n",
              "Price(BAM)           0\n",
              "Hotel star rating    0\n",
              "Distance             0\n",
              "Customer rating      0\n",
              "Rooms                0\n",
              "Squares              0\n",
              "City                 0\n",
              "dtype: int64"
            ]
          },
          "metadata": {},
          "execution_count": 7
        }
      ]
    },
    {
      "cell_type": "code",
      "source": [
        "# visualizing null values\n",
        "mn.bar(hotelDataset)\n",
        "plt.show()"
      ],
      "metadata": {
        "colab": {
          "base_uri": "https://localhost:8080/",
          "height": 522
        },
        "id": "lMuw9jpCrQpK",
        "outputId": "52dcff3d-948e-43d3-de0a-01c3135025d4"
      },
      "execution_count": 9,
      "outputs": [
        {
          "output_type": "display_data",
          "data": {
            "text/plain": [
              "<Figure size 1800x720 with 3 Axes>"
            ],
            "image/png": "[encoded data removed]"
          },
          "metadata": {
            "needs_background": "light"
          }
        }
      ]
    },
    {
      "cell_type": "markdown",
      "source": [
        "### **Creating Numerical and Categorical Data**"
      ],
      "metadata": {
        "id": "dgRI0viqq5Lt"
      }
    },
    {
      "cell_type": "code",
      "source": [
        "# creating numerical and categorical dataframes\n",
        "\n",
        "categoricalColumns = [col for col in hotelDataset.columns if hotelDataset[col].dtype == 'O']\n",
        "categoricalColumns"
      ],
      "metadata": {
        "colab": {
          "base_uri": "https://localhost:8080/"
        },
        "id": "Q3SA1dVxtID4",
        "outputId": "5a047671-df2e-485a-f154-98177f7a2cab"
      },
      "execution_count": 11,
      "outputs": [
        {
          "output_type": "execute_result",
          "data": {
            "text/plain": [
              "['Hotel name', 'City']"
            ]
          },
          "metadata": {},
          "execution_count": 11
        }
      ]
    },
    {
      "cell_type": "code",
      "source": [
        "categoricalData = hotelDataset[categoricalColumns]\n",
        "categoricalData.head()"
      ],
      "metadata": {
        "colab": {
          "base_uri": "https://localhost:8080/",
          "height": 206
        },
        "id": "dJgpJTMhtMLs",
        "outputId": "9c85d47f-103c-49d9-a271-ab3ab97d84ad"
      },
      "execution_count": 12,
      "outputs": [
        {
          "output_type": "execute_result",
          "data": {
            "text/plain": [
              "  Hotel name      City\n",
              "0     Europe  Sarajevo\n",
              "1     Europe  Sarajevo\n",
              "2      Hills  Sarajevo\n",
              "3      Hills  Sarajevo\n",
              "4   Boutique  Sarajevo"
            ],
            "text/html": [
              "\n",
              "  <div id=\"df-fa919c32-a800-4420-9925-51ff2b290d37\">\n",
              "    <div class=\"colab-df-container\">\n",
              "      <div>\n",
              "<style scoped>\n",
              "    .dataframe tbody tr th:only-of-type {\n",
              "        vertical-align: middle;\n",
              "    }\n",
              "\n",
              "    .dataframe tbody tr th {\n",
              "        vertical-align: top;\n",
              "    }\n",
              "\n",
              "    .dataframe thead th {\n",
              "        text-align: right;\n",
              "    }\n",
              "</style>\n",
              "<table border=\"1\" class=\"dataframe\">\n",
              "  <thead>\n",
              "    <tr style=\"text-align: right;\">\n",
              "      <th></th>\n",
              "      <th>Hotel name</th>\n",
              "      <th>City</th>\n",
              "    </tr>\n",
              "  </thead>\n",
              "  <tbody>\n",
              "    <tr>\n",
              "      <th>0</th>\n",
              "      <td>Europe</td>\n",
              "      <td>Sarajevo</td>\n",
              "    </tr>\n",
              "    <tr>\n",
              "      <th>1</th>\n",
              "      <td>Europe</td>\n",
              "      <td>Sarajevo</td>\n",
              "    </tr>\n",
              "    <tr>\n",
              "      <th>2</th>\n",
              "      <td>Hills</td>\n",
              "      <td>Sarajevo</td>\n",
              "    </tr>\n",
              "    <tr>\n",
              "      <th>3</th>\n",
              "      <td>Hills</td>\n",
              "      <td>Sarajevo</td>\n",
              "    </tr>\n",
              "    <tr>\n",
              "      <th>4</th>\n",
              "      <td>Boutique</td>\n",
              "      <td>Sarajevo</td>\n",
              "    </tr>\n",
              "  </tbody>\n",
              "</table>\n",
              "</div>\n",
              "      <button class=\"colab-df-convert\" onclick=\"convertToInteractive('df-fa919c32-a800-4420-9925-51ff2b290d37')\"\n",
              "              title=\"Convert this dataframe to an interactive table.\"\n",
              "              style=\"display:none;\">\n",
              "        \n",
              "  <svg xmlns=\"http://www.w3.org/2000/svg\" height=\"24px\"viewBox=\"0 0 24 24\"\n",
              "       width=\"24px\">\n",
              "    <path d=\"M0 0h24v24H0V0z\" fill=\"none\"/>\n",
              "    <path d=\"M18.56 5.44l.94 2.06.94-2.06 2.06-.94-2.06-.94-.94-2.06-.94 2.06-2.06.94zm-11 1L8.5 8.5l.94-2.06 2.06-.94-2.06-.94L8.5 2.5l-.94 2.06-2.06.94zm10 10l.94 2.06.94-2.06 2.06-.94-2.06-.94-.94-2.06-.94 2.06-2.06.94z\"/><path d=\"M17.41 7.96l-1.37-1.37c-.4-.4-.92-.59-1.43-.59-.52 0-1.04.2-1.43.59L10.3 9.45l-7.72 7.72c-.78.78-.78 2.05 0 2.83L4 21.41c.39.39.9.59 1.41.59.51 0 1.02-.2 1.41-.59l7.78-7.78 2.81-2.81c.8-.78.8-2.07 0-2.86zM5.41 20L4 18.59l7.72-7.72 1.47 1.35L5.41 20z\"/>\n",
              "  </svg>\n",
              "      </button>\n",
              "      \n",
              "  <style>\n",
              "    .colab-df-container {\n",
              "      display:flex;\n",
              "      flex-wrap:wrap;\n",
              "      gap: 12px;\n",
              "    }\n",
              "\n",
              "    .colab-df-convert {\n",
              "      background-color: #E8F0FE;\n",
              "      border: none;\n",
              "      border-radius: 50%;\n",
              "      cursor: pointer;\n",
              "      display: none;\n",
              "      fill: #1967D2;\n",
              "      height: 32px;\n",
              "      padding: 0 0 0 0;\n",
              "      width: 32px;\n",
              "    }\n",
              "\n",
              "    .colab-df-convert:hover {\n",
              "      background-color: #E2EBFA;\n",
              "      box-shadow: 0px 1px 2px rgba(60, 64, 67, 0.3), 0px 1px 3px 1px rgba(60, 64, 67, 0.15);\n",
              "      fill: #174EA6;\n",
              "    }\n",
              "\n",
              "    [theme=dark] .colab-df-convert {\n",
              "      background-color: #3B4455;\n",
              "      fill: #D2E3FC;\n",
              "    }\n",
              "\n",
              "    [theme=dark] .colab-df-convert:hover {\n",
              "      background-color: #434B5C;\n",
              "      box-shadow: 0px 1px 3px 1px rgba(0, 0, 0, 0.15);\n",
              "      filter: drop-shadow(0px 1px 2px rgba(0, 0, 0, 0.3));\n",
              "      fill: #FFFFFF;\n",
              "    }\n",
              "  </style>\n",
              "\n",
              "      <script>\n",
              "        const buttonEl =\n",
              "          document.querySelector('#df-fa919c32-a800-4420-9925-51ff2b290d37 button.colab-df-convert');\n",
              "        buttonEl.style.display =\n",
              "          google.colab.kernel.accessAllowed ? 'block' : 'none';\n",
              "\n",
              "        async function convertToInteractive(key) {\n",
              "          const element = document.querySelector('#df-fa919c32-a800-4420-9925-51ff2b290d37');\n",
              "          const dataTable =\n",
              "            await google.colab.kernel.invokeFunction('convertToInteractive',\n",
              "                                                     [key], {});\n",
              "          if (!dataTable) return;\n",
              "\n",
              "          const docLinkHtml = 'Like what you see? Visit the ' +\n",
              "            '<a target=\"_blank\" href=https://colab.research.google.com/notebooks/data_table.ipynb>data table notebook</a>'\n",
              "            + ' to learn more about interactive tables.';\n",
              "          element.innerHTML = '';\n",
              "          dataTable['output_type'] = 'display_data';\n",
              "          await google.colab.output.renderOutput(dataTable, element);\n",
              "          const docLink = document.createElement('div');\n",
              "          docLink.innerHTML = docLinkHtml;\n",
              "          element.appendChild(docLink);\n",
              "        }\n",
              "      </script>\n",
              "    </div>\n",
              "  </div>\n",
              "  "
            ]
          },
          "metadata": {},
          "execution_count": 12
        }
      ]
    },
    {
      "cell_type": "code",
      "source": [
        "# printing unique values of each column\n",
        "for col in categoricalData.columns:\n",
        "    print(f\"{col}: \\n{categoricalData[col].unique()}\\n\")"
      ],
      "metadata": {
        "colab": {
          "base_uri": "https://localhost:8080/"
        },
        "id": "BWjP4Q7StUxI",
        "outputId": "0b2266b0-4f29-4dd4-832f-1253ff02eccc"
      },
      "execution_count": 14,
      "outputs": [
        {
          "output_type": "stream",
          "name": "stdout",
          "text": [
            "Hotel name: \n",
            "['Europe' 'Hills' 'Boutique' 'Radon plaza' 'Holiday inn' 'Grand' 'Hayat'\n",
            " 'Brkic' 'Saraj' 'Old town' 'Ruža' 'Riverside residence' 'Bristol'\n",
            " 'Opal home' 'Hollywood' 'Fala' 'Zagreb' 'Best western' 'Forty two'\n",
            " 'Viena' 'Palace' 'International' 'Garden' 'Esplanade' 'Double tree'\n",
            " 'Dubrovnik' 'Academia' 'Rebro' 'Orient ekspres' 'The loop'\n",
            " 'Public House Hotel\\xa0' 'Envoy Hotel' 'Hilton Belgrade\\xa0'\n",
            " 'Hotel Bohemian Garni - Skadarlija' 'Mama Shelter Belgrade\\xa0'\n",
            " 'Hotel N\\xa0' 'Hotel Rex\\xa0' 'Room 25 Belgrade\\xa0'\n",
            " 'Garni Hotel Apart K\\xa0' 'City Code Exclusive\\xa0'\n",
            " 'Hotel Avalon Garni\\xa0' 'Hyatt' 'Square nine' 'Metropol palace'\n",
            " 'Hotel Majestic' 'Saint Ten Hotel' 'In Hotel ' 'Falkensteiner Hotel'\n",
            " 'Hotel Moskva' 'Tullip Inn Putnik' 'Hotel Union' 'Hotel Elegance'\n",
            " 'Hotel Emonec\\xa0' 'Atelier Hotel\\xa0' 'Adora Hotel'\n",
            " 'Hotel Center Ljubljana\\xa0' 'Hotel Lev'\n",
            " 'Best Western Premier Hotel Slon' 'Radisson Blu Plaza Hotel Ljubljana'\n",
            " 'City Hotel Ljubljana' 'Bit Center Hotel' 'Hotel Vila Katrca'\n",
            " 'intercontinental' 'Hotel Mrak'\n",
            " 'Vander Urbani Resort - Member of Design\\xa0Hotels'\n",
            " 'Four Points by Sheraton Ljubljana Mons ' 'Hotel Nox' 'Grand Hotel Union'\n",
            " 'B&B Hotel Ljubljana Park' 'WUD Hotel' 'uHotel' 'Allegro Hotel' 'M Hotel'\n",
            " 'Austria Trend Hotel']\n",
            "\n",
            "City: \n",
            "['Sarajevo' 'Zagreb' 'Belgrade' 'Ljubljana']\n",
            "\n"
          ]
        }
      ]
    },
    {
      "cell_type": "markdown",
      "source": [
        "### **Plotting Visually**"
      ],
      "metadata": {
        "id": "UaqERryTs-94"
      }
    },
    {
      "cell_type": "code",
      "source": [
        "sb.boxplot(data=hotelDataset, x=\"Rooms\", y=\"Squares\")"
      ],
      "metadata": {
        "colab": {
          "base_uri": "https://localhost:8080/",
          "height": 297
        },
        "id": "3wuxVj9-FeDA",
        "outputId": "393117d0-73f3-4fdf-fdeb-e122f98583f4"
      },
      "execution_count": 15,
      "outputs": [
        {
          "output_type": "execute_result",
          "data": {
            "text/plain": [
              "<matplotlib.axes._subplots.AxesSubplot at 0x7f23a4a3cc90>"
            ]
          },
          "metadata": {},
          "execution_count": 15
        },
        {
          "output_type": "display_data",
          "data": {
            "text/plain": [
              "<Figure size 432x288 with 1 Axes>"
            ],
            "image/png": "[encoded data removed]"
          },
          "metadata": {
            "needs_background": "light"
          }
        }
      ]
    },
    {
      "cell_type": "code",
      "source": [
        "hotelDataset['MEDV'] = hotelDataset.Distance"
      ],
      "metadata": {
        "id": "bRZYsUe0IbTA"
      },
      "execution_count": 16,
      "outputs": []
    },
    {
      "cell_type": "code",
      "source": [
        "print(hotelDataset)"
      ],
      "metadata": {
        "colab": {
          "base_uri": "https://localhost:8080/"
        },
        "id": "n_1dW_iWIpc6",
        "outputId": "aa4ebb4d-b7ac-4f39-f43b-255ee853fbfb"
      },
      "execution_count": 17,
      "outputs": [
        {
          "output_type": "stream",
          "name": "stdout",
          "text": [
            "      ID           Hotel name  Price(BAM)  Hotel star rating  Distance  \\\n",
            "0      1               Europe         139                  5       350   \n",
            "1      2               Europe         187                  5       350   \n",
            "2      3                Hills         255                  5     10000   \n",
            "3      4                Hills         141                  5     10000   \n",
            "4      5             Boutique         117                  4       450   \n",
            "..   ...                  ...         ...                ...       ...   \n",
            "115  116            WUD Hotel         121                  3      3200   \n",
            "116  117               uHotel         161                  4       250   \n",
            "117  118        Allegro Hotel         106                  4       550   \n",
            "118  119              M Hotel         123                  4      2400   \n",
            "119  120  Austria Trend Hotel         137                  4      3500   \n",
            "\n",
            "     Customer rating  Rooms  Squares       City   MEDV  \n",
            "0                8.3      1       25   Sarajevo    350  \n",
            "1                8.3      2       40   Sarajevo    350  \n",
            "2                8.5      3       42   Sarajevo  10000  \n",
            "3                8.5      2       42   Sarajevo  10000  \n",
            "4                8.7      1       15   Sarajevo    450  \n",
            "..               ...    ...      ...        ...    ...  \n",
            "115              8.9      2       40  Ljubljana   3200  \n",
            "116              9.0      1       28  Ljubljana    250  \n",
            "117              8.5      1       35  Ljubljana    550  \n",
            "118              8.4      1       31  Ljubljana   2400  \n",
            "119              8.8      1       34  Ljubljana   3500  \n",
            "\n",
            "[120 rows x 10 columns]\n"
          ]
        }
      ]
    },
    {
      "cell_type": "code",
      "source": [
        "#Correlation between different variables\n",
        "#Correlation is a way to determine if two variables in a dataset are related in any way.\n",
        "corr = hotelDataset.corr()"
      ],
      "metadata": {
        "id": "-kOuYBxmJPf3"
      },
      "execution_count": 19,
      "outputs": []
    },
    {
      "cell_type": "code",
      "source": [
        "sb.heatmap(hotelDataset.corr(), cmap=\"YlOrRd\", annot=True)"
      ],
      "metadata": {
        "colab": {
          "base_uri": "https://localhost:8080/",
          "height": 359
        },
        "id": "VWfrJ2gSJJXO",
        "outputId": "550eb707-6fc9-47f5-cea2-32d256f372fd"
      },
      "execution_count": 20,
      "outputs": [
        {
          "output_type": "execute_result",
          "data": {
            "text/plain": [
              "<matplotlib.axes._subplots.AxesSubplot at 0x7f23a49ba2d0>"
            ]
          },
          "metadata": {},
          "execution_count": 20
        },
        {
          "output_type": "display_data",
          "data": {
            "text/plain": [
              "<Figure size 432x288 with 2 Axes>"
            ],
            "image/png": "[encoded data removed]"
          },
          "metadata": {
            "needs_background": "light"
          }
        }
      ]
    },
    {
      "cell_type": "code",
      "source": [
        "plt.show()"
      ],
      "metadata": {
        "id": "Y8xoS4RMLY_t"
      },
      "execution_count": 21,
      "outputs": []
    },
    {
      "cell_type": "code",
      "source": [
        "#KDE Plot  as Kernel Density Estimate  is a graphical way to visualise our data \n",
        "#as the Probability Density of a continuous variable. It is an effort to analyse \n",
        "#the model data to understand how the variables are distributed.\n",
        "data = np.random.randn(500)\n",
        "res = sb.kdeplot(data , color='pink' , shade = True)"
      ],
      "metadata": {
        "colab": {
          "base_uri": "https://localhost:8080/",
          "height": 265
        },
        "id": "qI6DERb6NHGY",
        "outputId": "c2327956-a17d-4f0e-d5d2-6dd4870db2f1"
      },
      "execution_count": 22,
      "outputs": [
        {
          "output_type": "display_data",
          "data": {
            "text/plain": [
              "<Figure size 432x288 with 1 Axes>"
            ],
            "image/png": "[encoded data removed]"
          },
          "metadata": {
            "needs_background": "light"
          }
        }
      ]
    },
    {
      "cell_type": "markdown",
      "source": [
        "### **Working of Model**"
      ],
      "metadata": {
        "id": "723opMNQtJTa"
      }
    },
    {
      "cell_type": "code",
      "source": [
        "features = hotelDataset[['Hotel star rating','Distance','Customer rating','Rooms','Squares']]\n",
        "desiredOutput = hotelDataset['Price(BAM)']"
      ],
      "metadata": {
        "id": "czI93crz35LW"
      },
      "execution_count": 25,
      "outputs": []
    },
    {
      "cell_type": "code",
      "source": [
        "from sklearn.model_selection import train_test_split\n",
        "from sklearn.linear_model import LinearRegression\n",
        "from sklearn import metrics"
      ],
      "metadata": {
        "id": "hqvPnZNwEt5h"
      },
      "execution_count": 24,
      "outputs": []
    },
    {
      "cell_type": "code",
      "source": [
        "x_train, x_test, y_train, y_test = train_test_split(features, desiredOutput, test_size = 0.33,random_state = 5 )"
      ],
      "metadata": {
        "id": "rBTgED6bEb_t"
      },
      "execution_count": 26,
      "outputs": []
    },
    {
      "cell_type": "code",
      "source": [
        "regressor = LinearRegression()\n",
        "regressor.fit(x_train, y_train)\n",
        "y_pred = regressor.predict(x_test)\n",
        "df = pd.DataFrame({'Actual': y_test, 'Predicted': y_pred})\n",
        "df"
      ],
      "metadata": {
        "colab": {
          "base_uri": "https://localhost:8080/",
          "height": 1000
        },
        "id": "p5v1nwXcKVrV",
        "outputId": "432ada13-5c7f-49f6-c722-c31084465085"
      },
      "execution_count": 27,
      "outputs": [
        {
          "output_type": "execute_result",
          "data": {
            "text/plain": [
              "     Actual   Predicted\n",
              "71       89  143.272711\n",
              "59       95   82.963565\n",
              "39      133  113.402442\n",
              "10      167  222.334935\n",
              "93      117  193.199009\n",
              "23       96  168.608374\n",
              "57      108   72.807495\n",
              "42      178  161.968129\n",
              "56      178  189.585422\n",
              "74       80  222.894583\n",
              "28       96  115.447668\n",
              "35      105   39.542657\n",
              "17       39  -14.224515\n",
              "79      211  173.640164\n",
              "63      474  286.012222\n",
              "6       137  176.907440\n",
              "110     166  164.486943\n",
              "87      108  104.617657\n",
              "119     137  151.444582\n",
              "89       53   90.532838\n",
              "20      108   82.147968\n",
              "49      226  262.245447\n",
              "43      122  163.876691\n",
              "66       59   98.751866\n",
              "37       98  116.786162\n",
              "48      143  201.291711\n",
              "98      192  167.854403\n",
              "112     160  140.932304\n",
              "92      120  117.073944\n",
              "46      158  202.514968\n",
              "60      143  171.403013\n",
              "22      212  271.583243\n",
              "64       58  121.673618\n",
              "81      137  238.805430\n",
              "70       93  176.013956\n",
              "115     121  168.446924\n",
              "52      190  200.657010\n",
              "45      110  144.126004\n",
              "12       62   63.136288\n",
              "32      133  112.879875"
            ],
            "text/html": [
              "\n",
              "  <div id=\"df-ab84f77e-0d44-4f7f-a0fa-dc99dce89575\">\n",
              "    <div class=\"colab-df-container\">\n",
              "      <div>\n",
              "<style scoped>\n",
              "    .dataframe tbody tr th:only-of-type {\n",
              "        vertical-align: middle;\n",
              "    }\n",
              "\n",
              "    .dataframe tbody tr th {\n",
              "        vertical-align: top;\n",
              "    }\n",
              "\n",
              "    .dataframe thead th {\n",
              "        text-align: right;\n",
              "    }\n",
              "</style>\n",
              "<table border=\"1\" class=\"dataframe\">\n",
              "  <thead>\n",
              "    <tr style=\"text-align: right;\">\n",
              "      <th></th>\n",
              "      <th>Actual</th>\n",
              "      <th>Predicted</th>\n",
              "    </tr>\n",
              "  </thead>\n",
              "  <tbody>\n",
              "    <tr>\n",
              "      <th>71</th>\n",
              "      <td>89</td>\n",
              "      <td>143.272711</td>\n",
              "    </tr>\n",
              "    <tr>\n",
              "      <th>59</th>\n",
              "      <td>95</td>\n",
              "      <td>82.963565</td>\n",
              "    </tr>\n",
              "    <tr>\n",
              "      <th>39</th>\n",
              "      <td>133</td>\n",
              "      <td>113.402442</td>\n",
              "    </tr>\n",
              "    <tr>\n",
              "      <th>10</th>\n",
              "      <td>167</td>\n",
              "      <td>222.334935</td>\n",
              "    </tr>\n",
              "    <tr>\n",
              "      <th>93</th>\n",
              "      <td>117</td>\n",
              "      <td>193.199009</td>\n",
              "    </tr>\n",
              "    <tr>\n",
              "      <th>23</th>\n",
              "      <td>96</td>\n",
              "      <td>168.608374</td>\n",
              "    </tr>\n",
              "    <tr>\n",
              "      <th>57</th>\n",
              "      <td>108</td>\n",
              "      <td>72.807495</td>\n",
              "    </tr>\n",
              "    <tr>\n",
              "      <th>42</th>\n",
              "      <td>178</td>\n",
              "      <td>161.968129</td>\n",
              "    </tr>\n",
              "    <tr>\n",
              "      <th>56</th>\n",
              "      <td>178</td>\n",
              "      <td>189.585422</td>\n",
              "    </tr>\n",
              "    <tr>\n",
              "      <th>74</th>\n",
              "      <td>80</td>\n",
              "      <td>222.894583</td>\n",
              "    </tr>\n",
              "    <tr>\n",
              "      <th>28</th>\n",
              "      <td>96</td>\n",
              "      <td>115.447668</td>\n",
              "    </tr>\n",
              "    <tr>\n",
              "      <th>35</th>\n",
              "      <td>105</td>\n",
              "      <td>39.542657</td>\n",
              "    </tr>\n",
              "    <tr>\n",
              "      <th>17</th>\n",
              "      <td>39</td>\n",
              "      <td>-14.224515</td>\n",
              "    </tr>\n",
              "    <tr>\n",
              "      <th>79</th>\n",
              "      <td>211</td>\n",
              "      <td>173.640164</td>\n",
              "    </tr>\n",
              "    <tr>\n",
              "      <th>63</th>\n",
              "      <td>474</td>\n",
              "      <td>286.012222</td>\n",
              "    </tr>\n",
              "    <tr>\n",
              "      <th>6</th>\n",
              "      <td>137</td>\n",
              "      <td>176.907440</td>\n",
              "    </tr>\n",
              "    <tr>\n",
              "      <th>110</th>\n",
              "      <td>166</td>\n",
              "      <td>164.486943</td>\n",
              "    </tr>\n",
              "    <tr>\n",
              "      <th>87</th>\n",
              "      <td>108</td>\n",
              "      <td>104.617657</td>\n",
              "    </tr>\n",
              "    <tr>\n",
              "      <th>119</th>\n",
              "      <td>137</td>\n",
              "      <td>151.444582</td>\n",
              "    </tr>\n",
              "    <tr>\n",
              "      <th>89</th>\n",
              "      <td>53</td>\n",
              "      <td>90.532838</td>\n",
              "    </tr>\n",
              "    <tr>\n",
              "      <th>20</th>\n",
              "      <td>108</td>\n",
              "      <td>82.147968</td>\n",
              "    </tr>\n",
              "    <tr>\n",
              "      <th>49</th>\n",
              "      <td>226</td>\n",
              "      <td>262.245447</td>\n",
              "    </tr>\n",
              "    <tr>\n",
              "      <th>43</th>\n",
              "      <td>122</td>\n",
              "      <td>163.876691</td>\n",
              "    </tr>\n",
              "    <tr>\n",
              "      <th>66</th>\n",
              "      <td>59</td>\n",
              "      <td>98.751866</td>\n",
              "    </tr>\n",
              "    <tr>\n",
              "      <th>37</th>\n",
              "      <td>98</td>\n",
              "      <td>116.786162</td>\n",
              "    </tr>\n",
              "    <tr>\n",
              "      <th>48</th>\n",
              "      <td>143</td>\n",
              "      <td>201.291711</td>\n",
              "    </tr>\n",
              "    <tr>\n",
              "      <th>98</th>\n",
              "      <td>192</td>\n",
              "      <td>167.854403</td>\n",
              "    </tr>\n",
              "    <tr>\n",
              "      <th>112</th>\n",
              "      <td>160</td>\n",
              "      <td>140.932304</td>\n",
              "    </tr>\n",
              "    <tr>\n",
              "      <th>92</th>\n",
              "      <td>120</td>\n",
              "      <td>117.073944</td>\n",
              "    </tr>\n",
              "    <tr>\n",
              "      <th>46</th>\n",
              "      <td>158</td>\n",
              "      <td>202.514968</td>\n",
              "    </tr>\n",
              "    <tr>\n",
              "      <th>60</th>\n",
              "      <td>143</td>\n",
              "      <td>171.403013</td>\n",
              "    </tr>\n",
              "    <tr>\n",
              "      <th>22</th>\n",
              "      <td>212</td>\n",
              "      <td>271.583243</td>\n",
              "    </tr>\n",
              "    <tr>\n",
              "      <th>64</th>\n",
              "      <td>58</td>\n",
              "      <td>121.673618</td>\n",
              "    </tr>\n",
              "    <tr>\n",
              "      <th>81</th>\n",
              "      <td>137</td>\n",
              "      <td>238.805430</td>\n",
              "    </tr>\n",
              "    <tr>\n",
              "      <th>70</th>\n",
              "      <td>93</td>\n",
              "      <td>176.013956</td>\n",
              "    </tr>\n",
              "    <tr>\n",
              "      <th>115</th>\n",
              "      <td>121</td>\n",
              "      <td>168.446924</td>\n",
              "    </tr>\n",
              "    <tr>\n",
              "      <th>52</th>\n",
              "      <td>190</td>\n",
              "      <td>200.657010</td>\n",
              "    </tr>\n",
              "    <tr>\n",
              "      <th>45</th>\n",
              "      <td>110</td>\n",
              "      <td>144.126004</td>\n",
              "    </tr>\n",
              "    <tr>\n",
              "      <th>12</th>\n",
              "      <td>62</td>\n",
              "      <td>63.136288</td>\n",
              "    </tr>\n",
              "    <tr>\n",
              "      <th>32</th>\n",
              "      <td>133</td>\n",
              "      <td>112.879875</td>\n",
              "    </tr>\n",
              "  </tbody>\n",
              "</table>\n",
              "</div>\n",
              "      <button class=\"colab-df-convert\" onclick=\"convertToInteractive('df-ab84f77e-0d44-4f7f-a0fa-dc99dce89575')\"\n",
              "              title=\"Convert this dataframe to an interactive table.\"\n",
              "              style=\"display:none;\">\n",
              "        \n",
              "  <svg xmlns=\"http://www.w3.org/2000/svg\" height=\"24px\"viewBox=\"0 0 24 24\"\n",
              "       width=\"24px\">\n",
              "    <path d=\"M0 0h24v24H0V0z\" fill=\"none\"/>\n",
              "    <path d=\"M18.56 5.44l.94 2.06.94-2.06 2.06-.94-2.06-.94-.94-2.06-.94 2.06-2.06.94zm-11 1L8.5 8.5l.94-2.06 2.06-.94-2.06-.94L8.5 2.5l-.94 2.06-2.06.94zm10 10l.94 2.06.94-2.06 2.06-.94-2.06-.94-.94-2.06-.94 2.06-2.06.94z\"/><path d=\"M17.41 7.96l-1.37-1.37c-.4-.4-.92-.59-1.43-.59-.52 0-1.04.2-1.43.59L10.3 9.45l-7.72 7.72c-.78.78-.78 2.05 0 2.83L4 21.41c.39.39.9.59 1.41.59.51 0 1.02-.2 1.41-.59l7.78-7.78 2.81-2.81c.8-.78.8-2.07 0-2.86zM5.41 20L4 18.59l7.72-7.72 1.47 1.35L5.41 20z\"/>\n",
              "  </svg>\n",
              "      </button>\n",
              "      \n",
              "  <style>\n",
              "    .colab-df-container {\n",
              "      display:flex;\n",
              "      flex-wrap:wrap;\n",
              "      gap: 12px;\n",
              "    }\n",
              "\n",
              "    .colab-df-convert {\n",
              "      background-color: #E8F0FE;\n",
              "      border: none;\n",
              "      border-radius: 50%;\n",
              "      cursor: pointer;\n",
              "      display: none;\n",
              "      fill: #1967D2;\n",
              "      height: 32px;\n",
              "      padding: 0 0 0 0;\n",
              "      width: 32px;\n",
              "    }\n",
              "\n",
              "    .colab-df-convert:hover {\n",
              "      background-color: #E2EBFA;\n",
              "      box-shadow: 0px 1px 2px rgba(60, 64, 67, 0.3), 0px 1px 3px 1px rgba(60, 64, 67, 0.15);\n",
              "      fill: #174EA6;\n",
              "    }\n",
              "\n",
              "    [theme=dark] .colab-df-convert {\n",
              "      background-color: #3B4455;\n",
              "      fill: #D2E3FC;\n",
              "    }\n",
              "\n",
              "    [theme=dark] .colab-df-convert:hover {\n",
              "      background-color: #434B5C;\n",
              "      box-shadow: 0px 1px 3px 1px rgba(0, 0, 0, 0.15);\n",
              "      filter: drop-shadow(0px 1px 2px rgba(0, 0, 0, 0.3));\n",
              "      fill: #FFFFFF;\n",
              "    }\n",
              "  </style>\n",
              "\n",
              "      <script>\n",
              "        const buttonEl =\n",
              "          document.querySelector('#df-ab84f77e-0d44-4f7f-a0fa-dc99dce89575 button.colab-df-convert');\n",
              "        buttonEl.style.display =\n",
              "          google.colab.kernel.accessAllowed ? 'block' : 'none';\n",
              "\n",
              "        async function convertToInteractive(key) {\n",
              "          const element = document.querySelector('#df-ab84f77e-0d44-4f7f-a0fa-dc99dce89575');\n",
              "          const dataTable =\n",
              "            await google.colab.kernel.invokeFunction('convertToInteractive',\n",
              "                                                     [key], {});\n",
              "          if (!dataTable) return;\n",
              "\n",
              "          const docLinkHtml = 'Like what you see? Visit the ' +\n",
              "            '<a target=\"_blank\" href=https://colab.research.google.com/notebooks/data_table.ipynb>data table notebook</a>'\n",
              "            + ' to learn more about interactive tables.';\n",
              "          element.innerHTML = '';\n",
              "          dataTable['output_type'] = 'display_data';\n",
              "          await google.colab.output.renderOutput(dataTable, element);\n",
              "          const docLink = document.createElement('div');\n",
              "          docLink.innerHTML = docLinkHtml;\n",
              "          element.appendChild(docLink);\n",
              "        }\n",
              "      </script>\n",
              "    </div>\n",
              "  </div>\n",
              "  "
            ]
          },
          "metadata": {},
          "execution_count": 27
        }
      ]
    },
    {
      "cell_type": "code",
      "source": [
        "print(regressor.coef_)"
      ],
      "metadata": {
        "colab": {
          "base_uri": "https://localhost:8080/"
        },
        "id": "qaaGiGRaLYTE",
        "outputId": "666eae17-9028-41e4-c5db-4a411345b453"
      },
      "execution_count": 28,
      "outputs": [
        {
          "output_type": "stream",
          "name": "stdout",
          "text": [
            "[ 3.34330050e+01 -4.64037607e-03  9.13358484e+00  3.27412442e+01\n",
            "  2.56477193e+00]\n"
          ]
        }
      ]
    },
    {
      "cell_type": "code",
      "source": [
        "m = regressor.coef_"
      ],
      "metadata": {
        "id": "5QfOreWLdaBh"
      },
      "execution_count": 29,
      "outputs": []
    },
    {
      "cell_type": "code",
      "source": [
        "y_pred = regressor.predict(x_test)"
      ],
      "metadata": {
        "id": "igoCSQt6M8vp"
      },
      "execution_count": 30,
      "outputs": []
    },
    {
      "cell_type": "code",
      "source": [
        "df_preds = pd.DataFrame({'Actual': y_test.squeeze(), 'Predicted': y_pred.squeeze()})\n",
        "print(df_preds)"
      ],
      "metadata": {
        "colab": {
          "base_uri": "https://localhost:8080/"
        },
        "id": "8FQFnNpvNHtj",
        "outputId": "f587a0a1-7612-4dee-a31d-3823e1e763b4"
      },
      "execution_count": 31,
      "outputs": [
        {
          "output_type": "stream",
          "name": "stdout",
          "text": [
            "     Actual   Predicted\n",
            "71       89  143.272711\n",
            "59       95   82.963565\n",
            "39      133  113.402442\n",
            "10      167  222.334935\n",
            "93      117  193.199009\n",
            "23       96  168.608374\n",
            "57      108   72.807495\n",
            "42      178  161.968129\n",
            "56      178  189.585422\n",
            "74       80  222.894583\n",
            "28       96  115.447668\n",
            "35      105   39.542657\n",
            "17       39  -14.224515\n",
            "79      211  173.640164\n",
            "63      474  286.012222\n",
            "6       137  176.907440\n",
            "110     166  164.486943\n",
            "87      108  104.617657\n",
            "119     137  151.444582\n",
            "89       53   90.532838\n",
            "20      108   82.147968\n",
            "49      226  262.245447\n",
            "43      122  163.876691\n",
            "66       59   98.751866\n",
            "37       98  116.786162\n",
            "48      143  201.291711\n",
            "98      192  167.854403\n",
            "112     160  140.932304\n",
            "92      120  117.073944\n",
            "46      158  202.514968\n",
            "60      143  171.403013\n",
            "22      212  271.583243\n",
            "64       58  121.673618\n",
            "81      137  238.805430\n",
            "70       93  176.013956\n",
            "115     121  168.446924\n",
            "52      190  200.657010\n",
            "45      110  144.126004\n",
            "12       62   63.136288\n",
            "32      133  112.879875\n"
          ]
        }
      ]
    },
    {
      "cell_type": "code",
      "source": [
        "from sklearn.metrics import mean_absolute_error, mean_squared_error"
      ],
      "metadata": {
        "id": "68ofg-AaN1kq"
      },
      "execution_count": 32,
      "outputs": []
    },
    {
      "cell_type": "code",
      "source": [
        "mae = metrics.mean_absolute_error(y_test, y_pred)\n",
        "mse = metrics.mean_squared_error(y_test, y_pred)\n",
        "ms = np.sqrt(metrics.mean_squared_error(y_test, y_pred))\n",
        "mm = metrics.r2_score(y_test, y_pred)"
      ],
      "metadata": {
        "id": "pJyv5WUpMQFW"
      },
      "execution_count": 33,
      "outputs": []
    },
    {
      "cell_type": "code",
      "source": [
        "print(f'Mean absolute error: {mae:.2f}')\n",
        "print(f'Mean squared error: {mse:.2f}')\n",
        "print(f'Root mean squared error: {ms:.2f}')\n",
        "print(f'r2_score: {mm:.2f}')"
      ],
      "metadata": {
        "colab": {
          "base_uri": "https://localhost:8080/"
        },
        "id": "tDnko4fwOYGd",
        "outputId": "4fcc0a7f-a5c4-4a98-adb8-7ba81c61ec64"
      },
      "execution_count": 34,
      "outputs": [
        {
          "output_type": "stream",
          "name": "stdout",
          "text": [
            "Mean absolute error: 42.94\n",
            "Mean squared error: 3218.09\n",
            "Root mean squared error: 56.73\n",
            "r2_score: 0.35\n"
          ]
        }
      ]
    },
    {
      "cell_type": "code",
      "source": [
        "x1 = np.array(x_test['Hotel star rating'])\n",
        "y1 = np.array(y_pred)"
      ],
      "metadata": {
        "id": "qGoP0HuLOtW-"
      },
      "execution_count": 37,
      "outputs": []
    },
    {
      "cell_type": "code",
      "source": [
        "plt.plot(x1, y1, 'o')"
      ],
      "metadata": {
        "colab": {
          "base_uri": "https://localhost:8080/",
          "height": 287
        },
        "id": "wE-CSl6YeJSL",
        "outputId": "d1134bdc-ae4e-4334-bdb2-d83481b98067"
      },
      "execution_count": 38,
      "outputs": [
        {
          "output_type": "execute_result",
          "data": {
            "text/plain": [
              "[<matplotlib.lines.Line2D at 0x7f23a3f7a6d0>]"
            ]
          },
          "metadata": {},
          "execution_count": 38
        },
        {
          "output_type": "display_data",
          "data": {
            "text/plain": [
              "<Figure size 432x288 with 1 Axes>"
            ],
            "image/png": "[encoded data removed]"
          },
          "metadata": {
            "needs_background": "light"
          }
        }
      ]
    },
    {
      "cell_type": "code",
      "source": [
        "m, b = np.polyfit(x1, y1, 1)"
      ],
      "metadata": {
        "id": "HAccDrQneQ-r"
      },
      "execution_count": 39,
      "outputs": []
    },
    {
      "cell_type": "code",
      "source": [
        "plt.plot(x1, m*x1 + b)"
      ],
      "metadata": {
        "colab": {
          "base_uri": "https://localhost:8080/",
          "height": 283
        },
        "id": "gVkrn1A8edgR",
        "outputId": "f79eb9ab-9eb8-4250-ef25-066a2e032c09"
      },
      "execution_count": 40,
      "outputs": [
        {
          "output_type": "execute_result",
          "data": {
            "text/plain": [
              "[<matplotlib.lines.Line2D at 0x7f23a3f63fd0>]"
            ]
          },
          "metadata": {},
          "execution_count": 40
        },
        {
          "output_type": "display_data",
          "data": {
            "text/plain": [
              "<Figure size 432x288 with 1 Axes>"
            ],
            "image/png": "[encoded data removed]"
          },
          "metadata": {
            "needs_background": "light"
          }
        }
      ]
    },
    {
      "cell_type": "code",
      "source": [
        "plt.plot(x_test['Distance'], m*x_test['Hotel star rating'] + b)\n",
        "plt.plot(x_test['Rooms'],y_pred,'o')\n",
        "plt.xlabel(\"Distance\")\n",
        "plt.ylabel(\"Price(BAM)\")\n"
      ],
      "metadata": {
        "colab": {
          "base_uri": "https://localhost:8080/",
          "height": 301
        },
        "id": "ZxdNRlvYbvwS",
        "outputId": "5d9c373f-b490-4fdd-95c6-2556cec09db2"
      },
      "execution_count": 41,
      "outputs": [
        {
          "output_type": "execute_result",
          "data": {
            "text/plain": [
              "Text(0, 0.5, 'Price(BAM)')"
            ]
          },
          "metadata": {},
          "execution_count": 41
        },
        {
          "output_type": "display_data",
          "data": {
            "text/plain": [
              "<Figure size 432x288 with 1 Axes>"
            ],
            "image/png": "[encoded data removed]"
          },
          "metadata": {
            "needs_background": "light"
          }
        }
      ]
    }
  ]
}